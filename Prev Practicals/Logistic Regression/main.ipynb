{
 "cells": [
  {
   "cell_type": "markdown",
   "source": [
    "# Importing Necessary Libraries"
   ],
   "metadata": {}
  },
  {
   "cell_type": "code",
   "execution_count": 15,
   "source": [
    "import numpy as np\r\n",
    "import pandas as pd\r\n",
    "import matplotlib.pyplot as plt\r\n",
    "from sklearn.metrics import confusion_matrix\r\n",
    "plt.style.use('seaborn')"
   ],
   "outputs": [],
   "metadata": {}
  },
  {
   "cell_type": "markdown",
   "source": [
    "# Importing the Data"
   ],
   "metadata": {}
  },
  {
   "cell_type": "code",
   "execution_count": 16,
   "source": [
    "df = pd.read_csv(\"diabetes2.csv\")\r\n",
    "df.head()"
   ],
   "outputs": [
    {
     "output_type": "execute_result",
     "data": {
      "text/html": [
       "<div>\n",
       "<style scoped>\n",
       "    .dataframe tbody tr th:only-of-type {\n",
       "        vertical-align: middle;\n",
       "    }\n",
       "\n",
       "    .dataframe tbody tr th {\n",
       "        vertical-align: top;\n",
       "    }\n",
       "\n",
       "    .dataframe thead th {\n",
       "        text-align: right;\n",
       "    }\n",
       "</style>\n",
       "<table border=\"1\" class=\"dataframe\">\n",
       "  <thead>\n",
       "    <tr style=\"text-align: right;\">\n",
       "      <th></th>\n",
       "      <th>Pregnancies</th>\n",
       "      <th>Glucose</th>\n",
       "      <th>BloodPressure</th>\n",
       "      <th>SkinThickness</th>\n",
       "      <th>Insulin</th>\n",
       "      <th>BMI</th>\n",
       "      <th>DiabetesPedigreeFunction</th>\n",
       "      <th>Age</th>\n",
       "      <th>Outcome</th>\n",
       "    </tr>\n",
       "  </thead>\n",
       "  <tbody>\n",
       "    <tr>\n",
       "      <th>0</th>\n",
       "      <td>6</td>\n",
       "      <td>148</td>\n",
       "      <td>72</td>\n",
       "      <td>35</td>\n",
       "      <td>0</td>\n",
       "      <td>33.6</td>\n",
       "      <td>0.627</td>\n",
       "      <td>50</td>\n",
       "      <td>1</td>\n",
       "    </tr>\n",
       "    <tr>\n",
       "      <th>1</th>\n",
       "      <td>1</td>\n",
       "      <td>85</td>\n",
       "      <td>66</td>\n",
       "      <td>29</td>\n",
       "      <td>0</td>\n",
       "      <td>26.6</td>\n",
       "      <td>0.351</td>\n",
       "      <td>31</td>\n",
       "      <td>0</td>\n",
       "    </tr>\n",
       "    <tr>\n",
       "      <th>2</th>\n",
       "      <td>8</td>\n",
       "      <td>183</td>\n",
       "      <td>64</td>\n",
       "      <td>0</td>\n",
       "      <td>0</td>\n",
       "      <td>23.3</td>\n",
       "      <td>0.672</td>\n",
       "      <td>32</td>\n",
       "      <td>1</td>\n",
       "    </tr>\n",
       "    <tr>\n",
       "      <th>3</th>\n",
       "      <td>1</td>\n",
       "      <td>89</td>\n",
       "      <td>66</td>\n",
       "      <td>23</td>\n",
       "      <td>94</td>\n",
       "      <td>28.1</td>\n",
       "      <td>0.167</td>\n",
       "      <td>21</td>\n",
       "      <td>0</td>\n",
       "    </tr>\n",
       "    <tr>\n",
       "      <th>4</th>\n",
       "      <td>0</td>\n",
       "      <td>137</td>\n",
       "      <td>40</td>\n",
       "      <td>35</td>\n",
       "      <td>168</td>\n",
       "      <td>43.1</td>\n",
       "      <td>2.288</td>\n",
       "      <td>33</td>\n",
       "      <td>1</td>\n",
       "    </tr>\n",
       "  </tbody>\n",
       "</table>\n",
       "</div>"
      ],
      "text/plain": [
       "   Pregnancies  Glucose  BloodPressure  SkinThickness  Insulin   BMI  \\\n",
       "0            6      148             72             35        0  33.6   \n",
       "1            1       85             66             29        0  26.6   \n",
       "2            8      183             64              0        0  23.3   \n",
       "3            1       89             66             23       94  28.1   \n",
       "4            0      137             40             35      168  43.1   \n",
       "\n",
       "   DiabetesPedigreeFunction  Age  Outcome  \n",
       "0                     0.627   50        1  \n",
       "1                     0.351   31        0  \n",
       "2                     0.672   32        1  \n",
       "3                     0.167   21        0  \n",
       "4                     2.288   33        1  "
      ]
     },
     "metadata": {},
     "execution_count": 16
    }
   ],
   "metadata": {}
  },
  {
   "cell_type": "code",
   "execution_count": 17,
   "source": [
    "df.describe()"
   ],
   "outputs": [
    {
     "output_type": "execute_result",
     "data": {
      "text/html": [
       "<div>\n",
       "<style scoped>\n",
       "    .dataframe tbody tr th:only-of-type {\n",
       "        vertical-align: middle;\n",
       "    }\n",
       "\n",
       "    .dataframe tbody tr th {\n",
       "        vertical-align: top;\n",
       "    }\n",
       "\n",
       "    .dataframe thead th {\n",
       "        text-align: right;\n",
       "    }\n",
       "</style>\n",
       "<table border=\"1\" class=\"dataframe\">\n",
       "  <thead>\n",
       "    <tr style=\"text-align: right;\">\n",
       "      <th></th>\n",
       "      <th>Pregnancies</th>\n",
       "      <th>Glucose</th>\n",
       "      <th>BloodPressure</th>\n",
       "      <th>SkinThickness</th>\n",
       "      <th>Insulin</th>\n",
       "      <th>BMI</th>\n",
       "      <th>DiabetesPedigreeFunction</th>\n",
       "      <th>Age</th>\n",
       "      <th>Outcome</th>\n",
       "    </tr>\n",
       "  </thead>\n",
       "  <tbody>\n",
       "    <tr>\n",
       "      <th>count</th>\n",
       "      <td>768.000000</td>\n",
       "      <td>768.000000</td>\n",
       "      <td>768.000000</td>\n",
       "      <td>768.000000</td>\n",
       "      <td>768.000000</td>\n",
       "      <td>768.000000</td>\n",
       "      <td>768.000000</td>\n",
       "      <td>768.000000</td>\n",
       "      <td>768.000000</td>\n",
       "    </tr>\n",
       "    <tr>\n",
       "      <th>mean</th>\n",
       "      <td>3.845052</td>\n",
       "      <td>120.894531</td>\n",
       "      <td>69.105469</td>\n",
       "      <td>20.536458</td>\n",
       "      <td>79.799479</td>\n",
       "      <td>31.992578</td>\n",
       "      <td>0.471876</td>\n",
       "      <td>33.240885</td>\n",
       "      <td>0.348958</td>\n",
       "    </tr>\n",
       "    <tr>\n",
       "      <th>std</th>\n",
       "      <td>3.369578</td>\n",
       "      <td>31.972618</td>\n",
       "      <td>19.355807</td>\n",
       "      <td>15.952218</td>\n",
       "      <td>115.244002</td>\n",
       "      <td>7.884160</td>\n",
       "      <td>0.331329</td>\n",
       "      <td>11.760232</td>\n",
       "      <td>0.476951</td>\n",
       "    </tr>\n",
       "    <tr>\n",
       "      <th>min</th>\n",
       "      <td>0.000000</td>\n",
       "      <td>0.000000</td>\n",
       "      <td>0.000000</td>\n",
       "      <td>0.000000</td>\n",
       "      <td>0.000000</td>\n",
       "      <td>0.000000</td>\n",
       "      <td>0.078000</td>\n",
       "      <td>21.000000</td>\n",
       "      <td>0.000000</td>\n",
       "    </tr>\n",
       "    <tr>\n",
       "      <th>25%</th>\n",
       "      <td>1.000000</td>\n",
       "      <td>99.000000</td>\n",
       "      <td>62.000000</td>\n",
       "      <td>0.000000</td>\n",
       "      <td>0.000000</td>\n",
       "      <td>27.300000</td>\n",
       "      <td>0.243750</td>\n",
       "      <td>24.000000</td>\n",
       "      <td>0.000000</td>\n",
       "    </tr>\n",
       "    <tr>\n",
       "      <th>50%</th>\n",
       "      <td>3.000000</td>\n",
       "      <td>117.000000</td>\n",
       "      <td>72.000000</td>\n",
       "      <td>23.000000</td>\n",
       "      <td>30.500000</td>\n",
       "      <td>32.000000</td>\n",
       "      <td>0.372500</td>\n",
       "      <td>29.000000</td>\n",
       "      <td>0.000000</td>\n",
       "    </tr>\n",
       "    <tr>\n",
       "      <th>75%</th>\n",
       "      <td>6.000000</td>\n",
       "      <td>140.250000</td>\n",
       "      <td>80.000000</td>\n",
       "      <td>32.000000</td>\n",
       "      <td>127.250000</td>\n",
       "      <td>36.600000</td>\n",
       "      <td>0.626250</td>\n",
       "      <td>41.000000</td>\n",
       "      <td>1.000000</td>\n",
       "    </tr>\n",
       "    <tr>\n",
       "      <th>max</th>\n",
       "      <td>17.000000</td>\n",
       "      <td>199.000000</td>\n",
       "      <td>122.000000</td>\n",
       "      <td>99.000000</td>\n",
       "      <td>846.000000</td>\n",
       "      <td>67.100000</td>\n",
       "      <td>2.420000</td>\n",
       "      <td>81.000000</td>\n",
       "      <td>1.000000</td>\n",
       "    </tr>\n",
       "  </tbody>\n",
       "</table>\n",
       "</div>"
      ],
      "text/plain": [
       "       Pregnancies     Glucose  BloodPressure  SkinThickness     Insulin  \\\n",
       "count   768.000000  768.000000     768.000000     768.000000  768.000000   \n",
       "mean      3.845052  120.894531      69.105469      20.536458   79.799479   \n",
       "std       3.369578   31.972618      19.355807      15.952218  115.244002   \n",
       "min       0.000000    0.000000       0.000000       0.000000    0.000000   \n",
       "25%       1.000000   99.000000      62.000000       0.000000    0.000000   \n",
       "50%       3.000000  117.000000      72.000000      23.000000   30.500000   \n",
       "75%       6.000000  140.250000      80.000000      32.000000  127.250000   \n",
       "max      17.000000  199.000000     122.000000      99.000000  846.000000   \n",
       "\n",
       "              BMI  DiabetesPedigreeFunction         Age     Outcome  \n",
       "count  768.000000                768.000000  768.000000  768.000000  \n",
       "mean    31.992578                  0.471876   33.240885    0.348958  \n",
       "std      7.884160                  0.331329   11.760232    0.476951  \n",
       "min      0.000000                  0.078000   21.000000    0.000000  \n",
       "25%     27.300000                  0.243750   24.000000    0.000000  \n",
       "50%     32.000000                  0.372500   29.000000    0.000000  \n",
       "75%     36.600000                  0.626250   41.000000    1.000000  \n",
       "max     67.100000                  2.420000   81.000000    1.000000  "
      ]
     },
     "metadata": {},
     "execution_count": 17
    }
   ],
   "metadata": {}
  },
  {
   "cell_type": "code",
   "execution_count": 18,
   "source": [
    "data = df.values"
   ],
   "outputs": [],
   "metadata": {}
  },
  {
   "cell_type": "markdown",
   "source": [
    "# Splitting the Data"
   ],
   "metadata": {}
  },
  {
   "cell_type": "code",
   "execution_count": 19,
   "source": [
    "x = data[:,:-1]\r\n",
    "y = data[:,-1]"
   ],
   "outputs": [],
   "metadata": {}
  },
  {
   "cell_type": "markdown",
   "source": [
    "# Normalization"
   ],
   "metadata": {}
  },
  {
   "cell_type": "code",
   "execution_count": 20,
   "source": [
    "#Normalisation\r\n",
    "x_mean = x.mean(axis=0)\r\n",
    "x_std = x.std(axis=0)\r\n",
    "\r\n",
    "X = (x-x_mean)/x_std"
   ],
   "outputs": [],
   "metadata": {}
  },
  {
   "cell_type": "code",
   "execution_count": 21,
   "source": [
    "X.shape,y.shape"
   ],
   "outputs": [
    {
     "output_type": "execute_result",
     "data": {
      "text/plain": [
       "((768, 8), (768,))"
      ]
     },
     "metadata": {},
     "execution_count": 21
    }
   ],
   "metadata": {}
  },
  {
   "cell_type": "markdown",
   "source": [
    "# Logistic Regression"
   ],
   "metadata": {}
  },
  {
   "cell_type": "code",
   "execution_count": 22,
   "source": [
    "def sigmoid(x):\r\n",
    "    return 1.0/(1.0 + np.exp(-x))\r\n",
    "def hypothesis(X,theta):\r\n",
    "    return sigmoid(np.dot(X,theta))\r\n",
    "def error(X,y,theta):\r\n",
    "    hi = hypothesis(X,theta)\r\n",
    "    e = -1*np.mean((y*np.log(hi) + ((1-y)*np.log(1-hi))))\r\n",
    "    return e\r\n",
    "def gradient(X,y,theta):\r\n",
    "    hi = hypothesis(X,theta)\r\n",
    "    grad = -(np.dot(X.T,(y-hi)))\r\n",
    "    m = X.shape[0]\r\n",
    "    return grad/m\r\n",
    "def gradientDescent(X,y,lr = 0.1, epochs = 300):\r\n",
    "    ones = np.ones((X.shape[0],1))\r\n",
    "    X_ = np.hstack((ones,X))\r\n",
    "    y = y.reshape((-1,1))\r\n",
    "\r\n",
    "    n = X_.shape[1]\r\n",
    "    theta = np.zeros((n,1))\r\n",
    "    error_list = []\r\n",
    "    for i in range(epochs):\r\n",
    "        error_list.append(error(X_,y,theta))\r\n",
    "        grad = gradient(X_,y,theta)\r\n",
    "        theta = theta - lr*grad\r\n",
    "    return theta,error_list"
   ],
   "outputs": [],
   "metadata": {}
  },
  {
   "cell_type": "code",
   "execution_count": 23,
   "source": [
    "theta,err = gradientDescent(X,y, lr=0.5,epochs=500)"
   ],
   "outputs": [],
   "metadata": {}
  },
  {
   "cell_type": "code",
   "execution_count": 24,
   "source": [
    "plt.plot(err)\r\n",
    "plt.xlabel(\"Epochs\")\r\n",
    "plt.ylabel(\"Loss/Error\")\r\n",
    "plt.show()"
   ],
   "outputs": [
    {
     "output_type": "display_data",
     "data": {
      "image/png": "[encoded data removed]",
      "text/plain": [
       "<Figure size 576x396 with 1 Axes>"
      ]
     },
     "metadata": {}
    }
   ],
   "metadata": {}
  },
  {
   "cell_type": "markdown",
   "source": [
    "# Weights of the Logistic Regression Agorithm"
   ],
   "metadata": {}
  },
  {
   "cell_type": "code",
   "execution_count": 25,
   "source": [
    "theta"
   ],
   "outputs": [
    {
     "output_type": "execute_result",
     "data": {
      "text/plain": [
       "array([[-0.87110174],\n",
       "       [ 0.41480203],\n",
       "       [ 1.12354378],\n",
       "       [-0.25717844],\n",
       "       [ 0.00986739],\n",
       "       [-0.13724668],\n",
       "       [ 0.70675627],\n",
       "       [ 0.31296112],\n",
       "       [ 0.17474908]])"
      ]
     },
     "metadata": {},
     "execution_count": 25
    }
   ],
   "metadata": {}
  },
  {
   "cell_type": "markdown",
   "source": [
    "# Making Predictions"
   ],
   "metadata": {}
  },
  {
   "cell_type": "code",
   "execution_count": 26,
   "source": [
    "def predict(X,theta):\r\n",
    "    ones = np.ones((X.shape[0],1))\r\n",
    "    X_ = np.hstack((ones,X))\r\n",
    "    h = hypothesis(X_,theta)\r\n",
    "    output = np.zeros(h.shape)\r\n",
    "    output[h>=0.5] = 1\r\n",
    "    output = output.astype('int')\r\n",
    "    return output\r\n",
    "XT_pred = predict(X,theta)"
   ],
   "outputs": [],
   "metadata": {}
  },
  {
   "cell_type": "markdown",
   "source": [
    "# Making a Confusion Matrix"
   ],
   "metadata": {}
  },
  {
   "cell_type": "code",
   "execution_count": 27,
   "source": [
    "CM = confusion_matrix(XT_pred, y, labels=[1,0])\r\n",
    "TP=CM[0][0]\r\n",
    "FP=CM[0][1]\r\n",
    "FN=CM[1][0]\r\n",
    "TN=CM[1][1]\r\n",
    "\r\n",
    "ACC = (TP+TN)/(TP+TN+FP+FN)\r\n",
    "print('Accuracy is : \\n', ACC)\r\n",
    "print('--------------------------------')\r\n",
    "Rec = TP/(TP+FN)\r\n",
    "print('Recall is : \\n', Rec)\r\n",
    "print('--------------------------------')\r\n",
    "Prec = TP/(TP+FP)\r\n",
    "print('Precsion is : \\n', Prec)\r\n",
    "print('--------------------------------')\r\n",
    "F1 = 2 * ((Prec * Rec)/(Prec + Rec))\r\n",
    "print('F1 score is : \\n', F1)\r\n",
    "print('--------------------------------')"
   ],
   "outputs": [
    {
     "output_type": "stream",
     "name": "stdout",
     "text": [
      "Accuracy is : \n",
      " 0.7825520833333334\n",
      "--------------------------------\n",
      "Recall is : \n",
      " 0.582089552238806\n",
      "--------------------------------\n",
      "Precsion is : \n",
      " 0.7393364928909952\n",
      "--------------------------------\n",
      "F1 score is : \n",
      " 0.651356993736952\n",
      "--------------------------------\n"
     ]
    }
   ],
   "metadata": {}
  },
  {
   "cell_type": "code",
   "execution_count": 28,
   "source": [
    "import seaborn as sns\r\n",
    "\r\n",
    "plt.figure(figsize=(12,9))\r\n",
    "plt.ticklabel_format(useOffset=False, style='plain')\r\n",
    "plt.title(\"Confusion Matrix\")\r\n",
    "sns.heatmap(CM,annot=True,cmap=plt.cm.Blues)\r\n",
    "plt.plot()"
   ],
   "outputs": [
    {
     "output_type": "execute_result",
     "data": {
      "text/plain": [
       "[]"
      ]
     },
     "metadata": {},
     "execution_count": 28
    },
    {
     "output_type": "display_data",
     "data": {
      "image/png": "[encoded data removed]",
      "text/plain": [
       "<Figure size 864x648 with 2 Axes>"
      ]
     },
     "metadata": {}
    }
   ],
   "metadata": {}
  },
  {
   "cell_type": "markdown",
   "source": [
    "# AUC and ROC Curve Calculations"
   ],
   "metadata": {}
  },
  {
   "cell_type": "code",
   "execution_count": 85,
   "source": [
    "def probabilities(X,theta):\r\n",
    "    ones = np.ones((X.shape[0],1))\r\n",
    "    X_ = np.hstack((ones,X))\r\n",
    "    h = hypothesis(X_,theta)\r\n",
    "    return h\r\n",
    "\r\n",
    "def true_false_positive(threshold_vector, y_test):\r\n",
    "    TP = np.equal(threshold_vector, 1) & np.equal(y_test, 1)\r\n",
    "    TN = np.equal(threshold_vector, 0) & np.equal(y_test, 0)\r\n",
    "    FP = np.equal(threshold_vector, 1) & np.equal(y_test, 0)\r\n",
    "    FN = np.equal(threshold_vector, 0) & np.equal(y_test, 1)\r\n",
    "\r\n",
    "    tpr = TP.sum() / (TP.sum() + FN.sum())\r\n",
    "    fpr = FP.sum() / (FP.sum() + TN.sum())\r\n",
    "    return tpr, fpr\r\n",
    "\r\n",
    "def roc_from_scratch(probabilities, y_test, partitions=100):\r\n",
    "    roc = np.array([])\r\n",
    "    for i in range(partitions + 1):\r\n",
    "        \r\n",
    "        threshold_vector = np.greater_equal(probabilities, i / partitions).astype(int)\r\n",
    "        tpr, fpr = true_false_positive(threshold_vector, y_test)\r\n",
    "        roc = np.append(roc, [fpr, tpr])\r\n",
    "        \r\n",
    "    return roc.reshape(-1, 2)"
   ],
   "outputs": [],
   "metadata": {}
  },
  {
   "cell_type": "code",
   "execution_count": 91,
   "source": [
    "prob_vector = probabilities(X,theta)\r\n",
    "sns.set()\r\n",
    "plt.figure(figsize=(15,7))\r\n",
    "\r\n",
    "ROC = roc_from_scratch(prob_vector,y,partitions=100)\r\n",
    "plt.scatter(ROC[:,0],ROC[:,1],color='#0F9D58',s=100)\r\n",
    "plt.title('ROC Curve')\r\n",
    "plt.xlabel('False Positive Rate')\r\n",
    "plt.ylabel('True Positive Rate')\r\n",
    "plt.show()"
   ],
   "outputs": [
    {
     "output_type": "display_data",
     "data": {
      "image/png": "[encoded data removed]",
      "text/plain": [
       "<Figure size 1080x504 with 1 Axes>"
      ]
     },
     "metadata": {}
    }
   ],
   "metadata": {}
  },
  {
   "cell_type": "code",
   "execution_count": 92,
   "source": [
    "from sklearn.metrics import roc_curve\r\n",
    "fpr, tpr, thresholds = roc_curve(y, prob_vector)\r\n",
    "\r\n",
    "plt.figure(figsize=(15, 7))\r\n",
    "plt.scatter(fpr, tpr, s=100, alpha=0.5, color=\"blue\", label=\"Scikit-learn\")\r\n",
    "plt.scatter(\r\n",
    "    ROC[:, 0], ROC[:, 1], color=\"red\", s=100, alpha=0.3, label=\"My implementation\"\r\n",
    ")\r\n",
    "plt.title(\"ROC Curve\", fontsize=20)\r\n",
    "plt.xlabel(\"False Positive Rate\", fontsize=16)\r\n",
    "plt.ylabel(\"True Positive Rate\", fontsize=16)\r\n",
    "plt.legend()\r\n",
    "plt.show()"
   ],
   "outputs": [
    {
     "output_type": "display_data",
     "data": {
      "image/png": "[encoded data removed]",
      "text/plain": [
       "<Figure size 1080x504 with 1 Axes>"
      ]
     },
     "metadata": {}
    }
   ],
   "metadata": {}
  },
  {
   "cell_type": "code",
   "execution_count": null,
   "source": [],
   "outputs": [],
   "metadata": {}
  }
 ],
 "metadata": {
  "orig_nbformat": 4,
  "language_info": {
   "name": "python",
   "version": "3.7.5",
   "mimetype": "text/x-python",
   "codemirror_mode": {
    "name": "ipython",
    "version": 3
   },
   "pygments_lexer": "ipython3",
   "nbconvert_exporter": "python",
   "file_extension": ".py"
  },
  "kernelspec": {
   "name": "python3",
   "display_name": "Python 3.7.5 64-bit"
  },
  "interpreter": {
   "hash": "66089b8846fb2b1ce4d133ea1ca5583b4894b9236ac1532920f23c52431036a5"
  }
 },
 "nbformat": 4,
 "nbformat_minor": 2
}