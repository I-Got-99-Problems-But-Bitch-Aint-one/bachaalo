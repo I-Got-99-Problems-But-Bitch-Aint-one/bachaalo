{
 "cells": [
  {
   "cell_type": "markdown",
   "source": [
    "# Importing Libraries"
   ],
   "metadata": {}
  },
  {
   "cell_type": "code",
   "execution_count": 1,
   "source": [
    "import pandas as pd\r\n",
    "import numpy as np"
   ],
   "outputs": [],
   "metadata": {}
  },
  {
   "cell_type": "markdown",
   "source": [
    "# Reading Dataset"
   ],
   "metadata": {}
  },
  {
   "cell_type": "code",
   "execution_count": 2,
   "source": [
    "df = pd.read_csv(\"Train.csv\")"
   ],
   "outputs": [],
   "metadata": {}
  },
  {
   "cell_type": "code",
   "execution_count": 3,
   "source": [
    "df.tail()"
   ],
   "outputs": [
    {
     "output_type": "execute_result",
     "data": {
      "text/html": [
       "<div>\n",
       "<style scoped>\n",
       "    .dataframe tbody tr th:only-of-type {\n",
       "        vertical-align: middle;\n",
       "    }\n",
       "\n",
       "    .dataframe tbody tr th {\n",
       "        vertical-align: top;\n",
       "    }\n",
       "\n",
       "    .dataframe thead th {\n",
       "        text-align: right;\n",
       "    }\n",
       "</style>\n",
       "<table border=\"1\" class=\"dataframe\">\n",
       "  <thead>\n",
       "    <tr style=\"text-align: right;\">\n",
       "      <th></th>\n",
       "      <th>pclass</th>\n",
       "      <th>survived</th>\n",
       "      <th>name</th>\n",
       "      <th>sex</th>\n",
       "      <th>age</th>\n",
       "      <th>sibsp</th>\n",
       "      <th>parch</th>\n",
       "      <th>ticket</th>\n",
       "      <th>fare</th>\n",
       "      <th>cabin</th>\n",
       "      <th>embarked</th>\n",
       "      <th>boat</th>\n",
       "      <th>body</th>\n",
       "      <th>home.dest</th>\n",
       "    </tr>\n",
       "  </thead>\n",
       "  <tbody>\n",
       "    <tr>\n",
       "      <th>1004</th>\n",
       "      <td>1.0</td>\n",
       "      <td>1.0</td>\n",
       "      <td>Blank, Mr. Henry</td>\n",
       "      <td>male</td>\n",
       "      <td>40.0</td>\n",
       "      <td>0.0</td>\n",
       "      <td>0.0</td>\n",
       "      <td>112277</td>\n",
       "      <td>31.0000</td>\n",
       "      <td>A31</td>\n",
       "      <td>C</td>\n",
       "      <td>7</td>\n",
       "      <td>NaN</td>\n",
       "      <td>Glen Ridge, NJ</td>\n",
       "    </tr>\n",
       "    <tr>\n",
       "      <th>1005</th>\n",
       "      <td>3.0</td>\n",
       "      <td>0.0</td>\n",
       "      <td>Laitinen, Miss. Kristina Sofia</td>\n",
       "      <td>female</td>\n",
       "      <td>37.0</td>\n",
       "      <td>0.0</td>\n",
       "      <td>0.0</td>\n",
       "      <td>4135</td>\n",
       "      <td>9.5875</td>\n",
       "      <td>NaN</td>\n",
       "      <td>S</td>\n",
       "      <td>NaN</td>\n",
       "      <td>NaN</td>\n",
       "      <td>NaN</td>\n",
       "    </tr>\n",
       "    <tr>\n",
       "      <th>1006</th>\n",
       "      <td>1.0</td>\n",
       "      <td>1.0</td>\n",
       "      <td>Newell, Miss. Marjorie</td>\n",
       "      <td>female</td>\n",
       "      <td>23.0</td>\n",
       "      <td>1.0</td>\n",
       "      <td>0.0</td>\n",
       "      <td>35273</td>\n",
       "      <td>113.2750</td>\n",
       "      <td>D36</td>\n",
       "      <td>C</td>\n",
       "      <td>6</td>\n",
       "      <td>NaN</td>\n",
       "      <td>Lexington, MA</td>\n",
       "    </tr>\n",
       "    <tr>\n",
       "      <th>1007</th>\n",
       "      <td>3.0</td>\n",
       "      <td>1.0</td>\n",
       "      <td>Nicola-Yarred, Master. Elias</td>\n",
       "      <td>male</td>\n",
       "      <td>12.0</td>\n",
       "      <td>1.0</td>\n",
       "      <td>0.0</td>\n",
       "      <td>2651</td>\n",
       "      <td>11.2417</td>\n",
       "      <td>NaN</td>\n",
       "      <td>C</td>\n",
       "      <td>C</td>\n",
       "      <td>NaN</td>\n",
       "      <td>NaN</td>\n",
       "    </tr>\n",
       "    <tr>\n",
       "      <th>1008</th>\n",
       "      <td>3.0</td>\n",
       "      <td>0.0</td>\n",
       "      <td>Corn, Mr. Harry</td>\n",
       "      <td>male</td>\n",
       "      <td>30.0</td>\n",
       "      <td>0.0</td>\n",
       "      <td>0.0</td>\n",
       "      <td>SOTON/OQ 392090</td>\n",
       "      <td>8.0500</td>\n",
       "      <td>NaN</td>\n",
       "      <td>S</td>\n",
       "      <td>NaN</td>\n",
       "      <td>NaN</td>\n",
       "      <td>London</td>\n",
       "    </tr>\n",
       "  </tbody>\n",
       "</table>\n",
       "</div>"
      ],
      "text/plain": [
       "      pclass  survived                            name     sex   age  sibsp  \\\n",
       "1004     1.0       1.0                Blank, Mr. Henry    male  40.0    0.0   \n",
       "1005     3.0       0.0  Laitinen, Miss. Kristina Sofia  female  37.0    0.0   \n",
       "1006     1.0       1.0          Newell, Miss. Marjorie  female  23.0    1.0   \n",
       "1007     3.0       1.0    Nicola-Yarred, Master. Elias    male  12.0    1.0   \n",
       "1008     3.0       0.0                 Corn, Mr. Harry    male  30.0    0.0   \n",
       "\n",
       "      parch           ticket      fare cabin embarked boat  body  \\\n",
       "1004    0.0           112277   31.0000   A31        C    7   NaN   \n",
       "1005    0.0             4135    9.5875   NaN        S  NaN   NaN   \n",
       "1006    0.0            35273  113.2750   D36        C    6   NaN   \n",
       "1007    0.0             2651   11.2417   NaN        C    C   NaN   \n",
       "1008    0.0  SOTON/OQ 392090    8.0500   NaN        S  NaN   NaN   \n",
       "\n",
       "           home.dest  \n",
       "1004  Glen Ridge, NJ  \n",
       "1005             NaN  \n",
       "1006   Lexington, MA  \n",
       "1007             NaN  \n",
       "1008          London  "
      ]
     },
     "metadata": {},
     "execution_count": 3
    }
   ],
   "metadata": {}
  },
  {
   "cell_type": "code",
   "execution_count": 4,
   "source": [
    "df.info()"
   ],
   "outputs": [
    {
     "output_type": "stream",
     "name": "stdout",
     "text": [
      "<class 'pandas.core.frame.DataFrame'>\n",
      "RangeIndex: 1009 entries, 0 to 1008\n",
      "Data columns (total 14 columns):\n",
      " #   Column     Non-Null Count  Dtype  \n",
      "---  ------     --------------  -----  \n",
      " 0   pclass     1009 non-null   float64\n",
      " 1   survived   1009 non-null   float64\n",
      " 2   name       1009 non-null   object \n",
      " 3   sex        1009 non-null   object \n",
      " 4   age        812 non-null    float64\n",
      " 5   sibsp      1009 non-null   float64\n",
      " 6   parch      1009 non-null   float64\n",
      " 7   ticket     1009 non-null   object \n",
      " 8   fare       1008 non-null   float64\n",
      " 9   cabin      229 non-null    object \n",
      " 10  embarked   1008 non-null   object \n",
      " 11  boat       374 non-null    object \n",
      " 12  body       98 non-null     float64\n",
      " 13  home.dest  582 non-null    object \n",
      "dtypes: float64(7), object(7)\n",
      "memory usage: 110.5+ KB\n"
     ]
    }
   ],
   "metadata": {}
  },
  {
   "cell_type": "markdown",
   "source": [
    "# Dropping Redundant Columns"
   ],
   "metadata": {}
  },
  {
   "cell_type": "code",
   "execution_count": 5,
   "source": [
    "columns_to_drop = [\"cabin\",\"embarked\",\"home.dest\",\"name\",\"body\",\"boat\", \"ticket\"]"
   ],
   "outputs": [],
   "metadata": {}
  },
  {
   "cell_type": "code",
   "execution_count": 6,
   "source": [
    "data_clean = df.drop(columns_to_drop,axis=1)"
   ],
   "outputs": [],
   "metadata": {}
  },
  {
   "cell_type": "code",
   "execution_count": 7,
   "source": [
    "data_clean.head()"
   ],
   "outputs": [
    {
     "output_type": "execute_result",
     "data": {
      "text/html": [
       "<div>\n",
       "<style scoped>\n",
       "    .dataframe tbody tr th:only-of-type {\n",
       "        vertical-align: middle;\n",
       "    }\n",
       "\n",
       "    .dataframe tbody tr th {\n",
       "        vertical-align: top;\n",
       "    }\n",
       "\n",
       "    .dataframe thead th {\n",
       "        text-align: right;\n",
       "    }\n",
       "</style>\n",
       "<table border=\"1\" class=\"dataframe\">\n",
       "  <thead>\n",
       "    <tr style=\"text-align: right;\">\n",
       "      <th></th>\n",
       "      <th>pclass</th>\n",
       "      <th>survived</th>\n",
       "      <th>sex</th>\n",
       "      <th>age</th>\n",
       "      <th>sibsp</th>\n",
       "      <th>parch</th>\n",
       "      <th>fare</th>\n",
       "    </tr>\n",
       "  </thead>\n",
       "  <tbody>\n",
       "    <tr>\n",
       "      <th>0</th>\n",
       "      <td>3.0</td>\n",
       "      <td>0.0</td>\n",
       "      <td>female</td>\n",
       "      <td>NaN</td>\n",
       "      <td>0.0</td>\n",
       "      <td>0.0</td>\n",
       "      <td>7.750</td>\n",
       "    </tr>\n",
       "    <tr>\n",
       "      <th>1</th>\n",
       "      <td>2.0</td>\n",
       "      <td>0.0</td>\n",
       "      <td>male</td>\n",
       "      <td>39.0</td>\n",
       "      <td>0.0</td>\n",
       "      <td>0.0</td>\n",
       "      <td>26.000</td>\n",
       "    </tr>\n",
       "    <tr>\n",
       "      <th>2</th>\n",
       "      <td>2.0</td>\n",
       "      <td>1.0</td>\n",
       "      <td>female</td>\n",
       "      <td>40.0</td>\n",
       "      <td>0.0</td>\n",
       "      <td>0.0</td>\n",
       "      <td>13.000</td>\n",
       "    </tr>\n",
       "    <tr>\n",
       "      <th>3</th>\n",
       "      <td>3.0</td>\n",
       "      <td>1.0</td>\n",
       "      <td>female</td>\n",
       "      <td>31.0</td>\n",
       "      <td>1.0</td>\n",
       "      <td>1.0</td>\n",
       "      <td>20.525</td>\n",
       "    </tr>\n",
       "    <tr>\n",
       "      <th>4</th>\n",
       "      <td>3.0</td>\n",
       "      <td>1.0</td>\n",
       "      <td>female</td>\n",
       "      <td>NaN</td>\n",
       "      <td>2.0</td>\n",
       "      <td>0.0</td>\n",
       "      <td>23.250</td>\n",
       "    </tr>\n",
       "  </tbody>\n",
       "</table>\n",
       "</div>"
      ],
      "text/plain": [
       "   pclass  survived     sex   age  sibsp  parch    fare\n",
       "0     3.0       0.0  female   NaN    0.0    0.0   7.750\n",
       "1     2.0       0.0    male  39.0    0.0    0.0  26.000\n",
       "2     2.0       1.0  female  40.0    0.0    0.0  13.000\n",
       "3     3.0       1.0  female  31.0    1.0    1.0  20.525\n",
       "4     3.0       1.0  female   NaN    2.0    0.0  23.250"
      ]
     },
     "metadata": {},
     "execution_count": 7
    }
   ],
   "metadata": {}
  },
  {
   "cell_type": "markdown",
   "source": [
    "# Encoding Class Labels to Numeric Labels"
   ],
   "metadata": {}
  },
  {
   "cell_type": "code",
   "execution_count": 8,
   "source": [
    "from sklearn.preprocessing import LabelEncoder\r\n",
    "le = LabelEncoder()\r\n",
    "data_clean['sex'] = le.fit_transform(data_clean['sex'])"
   ],
   "outputs": [],
   "metadata": {}
  },
  {
   "cell_type": "code",
   "execution_count": 9,
   "source": [
    "data_clean.head()"
   ],
   "outputs": [
    {
     "output_type": "execute_result",
     "data": {
      "text/html": [
       "<div>\n",
       "<style scoped>\n",
       "    .dataframe tbody tr th:only-of-type {\n",
       "        vertical-align: middle;\n",
       "    }\n",
       "\n",
       "    .dataframe tbody tr th {\n",
       "        vertical-align: top;\n",
       "    }\n",
       "\n",
       "    .dataframe thead th {\n",
       "        text-align: right;\n",
       "    }\n",
       "</style>\n",
       "<table border=\"1\" class=\"dataframe\">\n",
       "  <thead>\n",
       "    <tr style=\"text-align: right;\">\n",
       "      <th></th>\n",
       "      <th>pclass</th>\n",
       "      <th>survived</th>\n",
       "      <th>sex</th>\n",
       "      <th>age</th>\n",
       "      <th>sibsp</th>\n",
       "      <th>parch</th>\n",
       "      <th>fare</th>\n",
       "    </tr>\n",
       "  </thead>\n",
       "  <tbody>\n",
       "    <tr>\n",
       "      <th>0</th>\n",
       "      <td>3.0</td>\n",
       "      <td>0.0</td>\n",
       "      <td>0</td>\n",
       "      <td>NaN</td>\n",
       "      <td>0.0</td>\n",
       "      <td>0.0</td>\n",
       "      <td>7.750</td>\n",
       "    </tr>\n",
       "    <tr>\n",
       "      <th>1</th>\n",
       "      <td>2.0</td>\n",
       "      <td>0.0</td>\n",
       "      <td>1</td>\n",
       "      <td>39.0</td>\n",
       "      <td>0.0</td>\n",
       "      <td>0.0</td>\n",
       "      <td>26.000</td>\n",
       "    </tr>\n",
       "    <tr>\n",
       "      <th>2</th>\n",
       "      <td>2.0</td>\n",
       "      <td>1.0</td>\n",
       "      <td>0</td>\n",
       "      <td>40.0</td>\n",
       "      <td>0.0</td>\n",
       "      <td>0.0</td>\n",
       "      <td>13.000</td>\n",
       "    </tr>\n",
       "    <tr>\n",
       "      <th>3</th>\n",
       "      <td>3.0</td>\n",
       "      <td>1.0</td>\n",
       "      <td>0</td>\n",
       "      <td>31.0</td>\n",
       "      <td>1.0</td>\n",
       "      <td>1.0</td>\n",
       "      <td>20.525</td>\n",
       "    </tr>\n",
       "    <tr>\n",
       "      <th>4</th>\n",
       "      <td>3.0</td>\n",
       "      <td>1.0</td>\n",
       "      <td>0</td>\n",
       "      <td>NaN</td>\n",
       "      <td>2.0</td>\n",
       "      <td>0.0</td>\n",
       "      <td>23.250</td>\n",
       "    </tr>\n",
       "  </tbody>\n",
       "</table>\n",
       "</div>"
      ],
      "text/plain": [
       "   pclass  survived  sex   age  sibsp  parch    fare\n",
       "0     3.0       0.0    0   NaN    0.0    0.0   7.750\n",
       "1     2.0       0.0    1  39.0    0.0    0.0  26.000\n",
       "2     2.0       1.0    0  40.0    0.0    0.0  13.000\n",
       "3     3.0       1.0    0  31.0    1.0    1.0  20.525\n",
       "4     3.0       1.0    0   NaN    2.0    0.0  23.250"
      ]
     },
     "metadata": {},
     "execution_count": 9
    }
   ],
   "metadata": {}
  },
  {
   "cell_type": "code",
   "execution_count": 10,
   "source": [
    "data_clean.info()"
   ],
   "outputs": [
    {
     "output_type": "stream",
     "name": "stdout",
     "text": [
      "<class 'pandas.core.frame.DataFrame'>\n",
      "RangeIndex: 1009 entries, 0 to 1008\n",
      "Data columns (total 7 columns):\n",
      " #   Column    Non-Null Count  Dtype  \n",
      "---  ------    --------------  -----  \n",
      " 0   pclass    1009 non-null   float64\n",
      " 1   survived  1009 non-null   float64\n",
      " 2   sex       1009 non-null   int32  \n",
      " 3   age       812 non-null    float64\n",
      " 4   sibsp     1009 non-null   float64\n",
      " 5   parch     1009 non-null   float64\n",
      " 6   fare      1008 non-null   float64\n",
      "dtypes: float64(6), int32(1)\n",
      "memory usage: 51.4 KB\n"
     ]
    }
   ],
   "metadata": {}
  },
  {
   "cell_type": "code",
   "execution_count": 11,
   "source": [
    "data_clean = data_clean.fillna(data_clean['age'].mean())\r\n",
    "data_clean = data_clean.fillna(data_clean['fare'].mode())"
   ],
   "outputs": [],
   "metadata": {}
  },
  {
   "cell_type": "code",
   "execution_count": 12,
   "source": [
    "data_clean.info()"
   ],
   "outputs": [
    {
     "output_type": "stream",
     "name": "stdout",
     "text": [
      "<class 'pandas.core.frame.DataFrame'>\n",
      "RangeIndex: 1009 entries, 0 to 1008\n",
      "Data columns (total 7 columns):\n",
      " #   Column    Non-Null Count  Dtype  \n",
      "---  ------    --------------  -----  \n",
      " 0   pclass    1009 non-null   float64\n",
      " 1   survived  1009 non-null   float64\n",
      " 2   sex       1009 non-null   int32  \n",
      " 3   age       1009 non-null   float64\n",
      " 4   sibsp     1009 non-null   float64\n",
      " 5   parch     1009 non-null   float64\n",
      " 6   fare      1009 non-null   float64\n",
      "dtypes: float64(6), int32(1)\n",
      "memory usage: 51.4 KB\n"
     ]
    }
   ],
   "metadata": {}
  },
  {
   "cell_type": "markdown",
   "source": [
    "# Dividing Data into X and Y"
   ],
   "metadata": {}
  },
  {
   "cell_type": "code",
   "execution_count": 13,
   "source": [
    "input_cols = ['pclass', 'sex', 'age', 'sibsp', 'parch', 'fare']\r\n",
    "output_cols = ['survived']"
   ],
   "outputs": [],
   "metadata": {}
  },
  {
   "cell_type": "code",
   "execution_count": 14,
   "source": [
    "X = data_clean[input_cols]\r\n",
    "Y = data_clean[output_cols]"
   ],
   "outputs": [],
   "metadata": {}
  },
  {
   "cell_type": "code",
   "execution_count": 15,
   "source": [
    "X.shape,Y.shape"
   ],
   "outputs": [
    {
     "output_type": "execute_result",
     "data": {
      "text/plain": [
       "((1009, 6), (1009, 1))"
      ]
     },
     "metadata": {},
     "execution_count": 15
    }
   ],
   "metadata": {}
  },
  {
   "cell_type": "markdown",
   "source": [
    "# Defining Entropy and Information Gain"
   ],
   "metadata": {}
  },
  {
   "cell_type": "code",
   "execution_count": 16,
   "source": [
    "def entropy(col):\r\n",
    "    count = np.unique(col,return_counts=True)\r\n",
    "    N = float(col.shape[0])\r\n",
    "    ent = 0.0\r\n",
    "    for ix in count[1]:\r\n",
    "        p = ix/N\r\n",
    "        ent+=(-1.0 * p*np.log2(p))\r\n",
    "    return ent\r\n",
    "\r\n",
    "def divide_data(x_data,fkey,fval):\r\n",
    "    x_right = pd.DataFrame([],columns=x_data.columns)\r\n",
    "    x_left = pd.DataFrame([],columns=x_data.columns)\r\n",
    "    for ix in range(x_data.shape[0]):\r\n",
    "        val = x_data[fkey].loc[ix]\r\n",
    "\r\n",
    "        if val>fval:\r\n",
    "            x_right = x_right.append(x_data.loc[ix])\r\n",
    "        else:\r\n",
    "            x_left = x_left.append(x_data.loc[ix])\r\n",
    "    return x_left,x_right\r\n",
    "\r\n",
    "def info_gain(x_data,fkey,fval):\r\n",
    "    left,right = divide_data(x_data,fkey,fval)\r\n",
    "\r\n",
    "    l = float(left.shape[0])/x_data.shape[0]\r\n",
    "    r = float(right.shape[0])/x_data.shape[0]\r\n",
    "\r\n",
    "    if(left.shape[0] == 0 or right.shape[0] == 0):\r\n",
    "        return -100000\r\n",
    "    i_gain = entropy(x_data.survived) - (l*entropy(left.survived) + r*entropy(right.survived))\r\n",
    "    return i_gain"
   ],
   "outputs": [],
   "metadata": {}
  },
  {
   "cell_type": "code",
   "execution_count": 17,
   "source": [
    "for fx in X.columns:\r\n",
    "    print(fx)\r\n",
    "    print(info_gain(data_clean,fx,data_clean[fx].mean()))"
   ],
   "outputs": [
    {
     "output_type": "stream",
     "name": "stdout",
     "text": [
      "pclass\n",
      "0.055456910002982474\n",
      "sex\n",
      "0.19274737190850932\n",
      "age\n",
      "0.001955929827451075\n",
      "sibsp\n",
      "0.006492394392888956\n",
      "parch\n",
      "0.01975608012294816\n",
      "fare\n",
      "0.04242793401428169\n"
     ]
    }
   ],
   "metadata": {}
  },
  {
   "cell_type": "markdown",
   "source": [
    "# Implementing Decision Tree Class"
   ],
   "metadata": {}
  },
  {
   "cell_type": "code",
   "execution_count": 18,
   "source": [
    "class DecisionTree:\r\n",
    "    def __init__(self,depth = 0,max_depth = 5):\r\n",
    "        self.left = None\r\n",
    "        self.right = None\r\n",
    "        self.fkey = None\r\n",
    "        self.fval = None\r\n",
    "        self.max_depth = max_depth\r\n",
    "        self.depth = depth\r\n",
    "        self.target = None\r\n",
    "\r\n",
    "    def train(self,X_train):\r\n",
    "        features = ['pclass', 'sex', 'age', 'sibsp', 'parch', 'fare']\r\n",
    "        info_gains = []\r\n",
    "        for ix in features:\r\n",
    "            i_gain = info_gain(X_train,ix,X_train[ix].mean())\r\n",
    "            info_gains.append(i_gain)\r\n",
    "        self.fkey = features[np.argmax(info_gains)]\r\n",
    "        self.fval = X_train[self.fkey].mean()\r\n",
    "\r\n",
    "        print(\"Making Decision Tree, Current Node is: \",self.fkey)\r\n",
    "\r\n",
    "        data_left,data_right = divide_data(X_train,self.fkey,self.fval)\r\n",
    "        data_left = data_left.reset_index(drop=True)\r\n",
    "        data_right = data_right.reset_index(drop=True)\r\n",
    "\r\n",
    "        if data_left.shape[0] == 0 or data_right.shape[0] == 0:\r\n",
    "            if(X_train.survived.mean()>0.5):\r\n",
    "                self.target = \"Survived\"\r\n",
    "            else:\r\n",
    "                self.target = \"Dead\"\r\n",
    "            return\r\n",
    "        if self.depth >= self.max_depth:\r\n",
    "            if(X_train.survived.mean()>0.5):\r\n",
    "                self.target = \"Survived\"\r\n",
    "            else:\r\n",
    "                self.target = \"Dead\"\r\n",
    "            return\r\n",
    "        \r\n",
    "        self.left = DecisionTree(depth=self.depth+1,max_depth=self.max_depth)\r\n",
    "        self.left.train(data_left)\r\n",
    "\r\n",
    "        self.right = DecisionTree(depth=self.depth+1,max_depth=self.max_depth)\r\n",
    "        self.right.train(data_right)\r\n",
    "\r\n",
    "        if(X_train.survived.mean()>0.5):\r\n",
    "            self.target = \"Survived\"\r\n",
    "        else:\r\n",
    "            self.target = \"Dead\"\r\n",
    "        return\r\n",
    "    \r\n",
    "    def predict(self,test):\r\n",
    "        if test[self.fkey] > self.fval:\r\n",
    "            if self.right is None:\r\n",
    "                return self.target\r\n",
    "            return self.right.predict(test)\r\n",
    "        else:\r\n",
    "            if self.left is None:\r\n",
    "                return self.target\r\n",
    "            return self.left.predict(test)"
   ],
   "outputs": [],
   "metadata": {}
  },
  {
   "cell_type": "markdown",
   "source": [
    "# Creating test and train split"
   ],
   "metadata": {}
  },
  {
   "cell_type": "code",
   "execution_count": 19,
   "source": [
    "split = int(0.7*data_clean.shape[0])\r\n",
    "train_data = data_clean[:split]\r\n",
    "test_data = data_clean[split:]\r\n",
    "test_data = test_data.reset_index(drop=True)"
   ],
   "outputs": [],
   "metadata": {}
  },
  {
   "cell_type": "code",
   "execution_count": 20,
   "source": [
    "print(train_data.shape)"
   ],
   "outputs": [
    {
     "output_type": "stream",
     "name": "stdout",
     "text": [
      "(706, 7)\n"
     ]
    }
   ],
   "metadata": {}
  },
  {
   "cell_type": "markdown",
   "source": [
    "# Training Decsion Tree"
   ],
   "metadata": {}
  },
  {
   "cell_type": "code",
   "execution_count": 21,
   "source": [
    "dt = DecisionTree(max_depth=5)\r\n",
    "dt.train(train_data)"
   ],
   "outputs": [
    {
     "output_type": "stream",
     "name": "stdout",
     "text": [
      "Making Decision Tree, Current Node is:  sex\n",
      "Making Decision Tree, Current Node is:  pclass\n",
      "Making Decision Tree, Current Node is:  parch\n",
      "Making Decision Tree, Current Node is:  fare\n",
      "Making Decision Tree, Current Node is:  fare\n",
      "Making Decision Tree, Current Node is:  fare\n",
      "Making Decision Tree, Current Node is:  fare\n",
      "Making Decision Tree, Current Node is:  age\n",
      "Making Decision Tree, Current Node is:  age\n",
      "Making Decision Tree, Current Node is:  age\n",
      "Making Decision Tree, Current Node is:  fare\n",
      "Making Decision Tree, Current Node is:  pclass\n",
      "Making Decision Tree, Current Node is:  age\n",
      "Making Decision Tree, Current Node is:  age\n",
      "Making Decision Tree, Current Node is:  age\n",
      "Making Decision Tree, Current Node is:  age\n",
      "Making Decision Tree, Current Node is:  age\n",
      "Making Decision Tree, Current Node is:  sibsp\n",
      "Making Decision Tree, Current Node is:  fare\n",
      "Making Decision Tree, Current Node is:  fare\n",
      "Making Decision Tree, Current Node is:  parch\n",
      "Making Decision Tree, Current Node is:  age\n",
      "Making Decision Tree, Current Node is:  age\n",
      "Making Decision Tree, Current Node is:  age\n",
      "Making Decision Tree, Current Node is:  parch\n",
      "Making Decision Tree, Current Node is:  fare\n",
      "Making Decision Tree, Current Node is:  parch\n",
      "Making Decision Tree, Current Node is:  age\n",
      "Making Decision Tree, Current Node is:  fare\n",
      "Making Decision Tree, Current Node is:  fare\n",
      "Making Decision Tree, Current Node is:  age\n",
      "Making Decision Tree, Current Node is:  age\n",
      "Making Decision Tree, Current Node is:  fare\n",
      "Making Decision Tree, Current Node is:  parch\n",
      "Making Decision Tree, Current Node is:  sibsp\n",
      "Making Decision Tree, Current Node is:  age\n",
      "Making Decision Tree, Current Node is:  age\n",
      "Making Decision Tree, Current Node is:  pclass\n",
      "Making Decision Tree, Current Node is:  age\n",
      "Making Decision Tree, Current Node is:  age\n",
      "Making Decision Tree, Current Node is:  pclass\n",
      "Making Decision Tree, Current Node is:  fare\n",
      "Making Decision Tree, Current Node is:  parch\n",
      "Making Decision Tree, Current Node is:  sibsp\n",
      "Making Decision Tree, Current Node is:  pclass\n",
      "Making Decision Tree, Current Node is:  age\n",
      "Making Decision Tree, Current Node is:  pclass\n",
      "Making Decision Tree, Current Node is:  pclass\n",
      "Making Decision Tree, Current Node is:  fare\n",
      "Making Decision Tree, Current Node is:  age\n",
      "Making Decision Tree, Current Node is:  sibsp\n",
      "Making Decision Tree, Current Node is:  pclass\n",
      "Making Decision Tree, Current Node is:  age\n",
      "Making Decision Tree, Current Node is:  pclass\n",
      "Making Decision Tree, Current Node is:  sibsp\n",
      "Making Decision Tree, Current Node is:  pclass\n",
      "Making Decision Tree, Current Node is:  pclass\n",
      "Making Decision Tree, Current Node is:  fare\n",
      "Making Decision Tree, Current Node is:  parch\n",
      "Making Decision Tree, Current Node is:  fare\n",
      "Making Decision Tree, Current Node is:  pclass\n",
      "Making Decision Tree, Current Node is:  age\n",
      "Making Decision Tree, Current Node is:  age\n"
     ]
    }
   ],
   "metadata": {}
  },
  {
   "cell_type": "markdown",
   "source": [
    "# Predicting test data"
   ],
   "metadata": {}
  },
  {
   "cell_type": "code",
   "execution_count": 22,
   "source": [
    "y_pred = []\r\n",
    "for ix in range(test_data.shape[0]):\r\n",
    "    y_pred.append(dt.predict(test_data.loc[ix]))"
   ],
   "outputs": [],
   "metadata": {}
  },
  {
   "cell_type": "code",
   "execution_count": 23,
   "source": [
    "y_actual = test_data[output_cols]"
   ],
   "outputs": [],
   "metadata": {}
  },
  {
   "cell_type": "code",
   "execution_count": 24,
   "source": [
    "le = LabelEncoder()\r\n",
    "y_pred = le.fit_transform(y_pred)"
   ],
   "outputs": [],
   "metadata": {}
  },
  {
   "cell_type": "code",
   "execution_count": 25,
   "source": [
    "y_pred = np.array(y_pred).reshape((-1,1))\r\n",
    "print(y_pred.shape)\r\n",
    "acc = np.sum((y_pred==y_actual))/y_pred.shape[0]"
   ],
   "outputs": [
    {
     "output_type": "stream",
     "name": "stdout",
     "text": [
      "(303, 1)\n"
     ]
    }
   ],
   "metadata": {}
  },
  {
   "cell_type": "code",
   "execution_count": 26,
   "source": [
    "print(acc)"
   ],
   "outputs": [
    {
     "output_type": "stream",
     "name": "stdout",
     "text": [
      "survived    0.752475\n",
      "dtype: float64\n"
     ]
    }
   ],
   "metadata": {}
  },
  {
   "cell_type": "markdown",
   "source": [
    "# Creating Random forest Classifier Object using Sk-Learn"
   ],
   "metadata": {}
  },
  {
   "cell_type": "code",
   "execution_count": 27,
   "source": [
    "from sklearn.ensemble import RandomForestClassifier"
   ],
   "outputs": [],
   "metadata": {}
  },
  {
   "cell_type": "code",
   "execution_count": 28,
   "source": [
    "X_train = train_data[input_cols]\r\n",
    "Y_train = np.array(train_data[output_cols]).reshape((-1,))\r\n",
    "X_test = test_data[input_cols]\r\n",
    "Y_test = np.array(test_data[output_cols]).reshape((-1,))"
   ],
   "outputs": [],
   "metadata": {}
  },
  {
   "cell_type": "code",
   "execution_count": 29,
   "source": [
    "rf = RandomForestClassifier(n_estimators=12,criterion='entropy',max_depth=5)\r\n",
    "rf.fit(X_train,Y_train)"
   ],
   "outputs": [
    {
     "output_type": "execute_result",
     "data": {
      "text/plain": [
       "RandomForestClassifier(criterion='entropy', max_depth=5, n_estimators=12)"
      ]
     },
     "metadata": {},
     "execution_count": 29
    }
   ],
   "metadata": {}
  },
  {
   "cell_type": "code",
   "execution_count": 30,
   "source": [
    "rf.score(X_train,Y_train)\r\n"
   ],
   "outputs": [
    {
     "output_type": "execute_result",
     "data": {
      "text/plain": [
       "0.8569405099150141"
      ]
     },
     "metadata": {},
     "execution_count": 30
    }
   ],
   "metadata": {}
  }
 ],
 "metadata": {
  "orig_nbformat": 4,
  "language_info": {
   "name": "python",
   "version": "3.7.5",
   "mimetype": "text/x-python",
   "codemirror_mode": {
    "name": "ipython",
    "version": 3
   },
   "pygments_lexer": "ipython3",
   "nbconvert_exporter": "python",
   "file_extension": ".py"
  },
  "kernelspec": {
   "name": "python3",
   "display_name": "Python 3.7.5 64-bit"
  },
  "interpreter": {
   "hash": "66089b8846fb2b1ce4d133ea1ca5583b4894b9236ac1532920f23c52431036a5"
  }
 },
 "nbformat": 4,
 "nbformat_minor": 2
}